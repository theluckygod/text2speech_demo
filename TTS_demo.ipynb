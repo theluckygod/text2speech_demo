{
  "nbformat": 4,
  "nbformat_minor": 2,
  "metadata": {
    "colab": {
      "name": "TTS demo.ipynb",
      "provenance": [],
      "collapsed_sections": []
    },
    "kernelspec": {
      "name": "python3",
      "display_name": "Python 3"
    },
    "language_info": {
      "name": "python"
    },
    "accelerator": "GPU"
  },
  "cells": [
    {
      "cell_type": "code",
      "execution_count": null,
      "source": [
        "from google.colab import drive\n",
        "drive.mount('/content/drive')"
      ],
      "outputs": [
        {
          "output_type": "stream",
          "name": "stdout",
          "text": [
            "Mounted at /content/drive\n"
          ]
        }
      ],
      "metadata": {
        "colab": {
          "base_uri": "https://localhost:8080/"
        },
        "id": "9MI5ormbz7cn",
        "outputId": "fc1dba8b-a2c2-4859-9a29-b8a493fa42ce"
      }
    },
    {
      "cell_type": "code",
      "execution_count": null,
      "source": [
        "# upload ngrok-stable-linux-amd64.zip lên colab trước\n",
        "!unzip /content/ngrok-stable-linux-amd64.zip"
      ],
      "outputs": [
        {
          "output_type": "stream",
          "name": "stdout",
          "text": [
            "Archive:  /content/ngrok-stable-linux-amd64.zip\n",
            "  inflating: ngrok                   \n"
          ]
        }
      ],
      "metadata": {
        "colab": {
          "base_uri": "https://localhost:8080/"
        },
        "id": "YpsF8LjD0YVH",
        "outputId": "2a351f7d-c569-49a0-b746-7cfaf67c6fd6"
      }
    },
    {
      "cell_type": "code",
      "execution_count": null,
      "source": [
        "# upload folder FastSpeech2 có chứa app.py và config.yaml lên colab trước\n",
        "%cd FastSpeech2/ "
      ],
      "outputs": [
        {
          "output_type": "stream",
          "name": "stdout",
          "text": [
            "/content/FastSpeech2\n"
          ]
        }
      ],
      "metadata": {
        "colab": {
          "base_uri": "https://localhost:8080/"
        },
        "id": "4o1r0tRc1L5Y",
        "outputId": "a6803368-af6e-4229-a9d8-a58acdd2a946"
      }
    },
    {
      "cell_type": "code",
      "execution_count": null,
      "source": [
        "!pip install -r requirements.txt"
      ],
      "outputs": [
        {
          "output_type": "stream",
          "name": "stdout",
          "text": [
            "Requirement already satisfied: vinorm in /usr/local/lib/python3.7/dist-packages (2.0.7)\n"
          ]
        }
      ],
      "metadata": {
        "colab": {
          "base_uri": "https://localhost:8080/"
        },
        "id": "hPps54vPvDoX",
        "outputId": "75b04359-b5ae-4391-c99c-45a07553af6d"
      }
    },
    {
      "cell_type": "code",
      "execution_count": null,
      "source": [
        "!pip install torch==1.7.0+cu110 torchvision==0.8.1+cu110 torchaudio -f https://download.pytorch.org/whl/torch_stable.html"
      ],
      "outputs": [
        {
          "output_type": "stream",
          "name": "stdout",
          "text": [
            "Looking in links: https://download.pytorch.org/whl/torch_stable.html\n",
            "Collecting torch==1.7.0+cu110\n",
            "tcmalloc: large alloc 1137090560 bytes == 0x55d389ed0000 @  0x7fb13d01a1e7 0x55d3879ffa18 0x55d3879ca987 0x55d387b49335 0x55d387ae3a48 0x55d3879ce252 0x55d387aac96e 0x55d3879cdea9 0x55d387abfc0d 0x55d387a420d8 0x55d3879cf65a 0x55d387a3dd67 0x55d3879cf65a 0x55d387a3dd67 0x55d387a3cdcc 0x55d3879cffec 0x55d3879d01f1 0x55d387a3f318 0x55d387a3cc35 0x55d3879cffec 0x55d3879d01f1 0x55d387a3f318 0x55d387a3cc35 0x55d3879cffec 0x55d3879d01f1 0x55d387a3f318 0x55d387a3cdcc 0x55d3879cffec 0x55d3879d01f1 0x55d387a3f318 0x55d387a3cc35\n",
            "tcmalloc: large alloc 1421369344 bytes == 0x55d3cdb3a000 @  0x7fb13d01b615 0x55d3879cb02c 0x55d387aab17a 0x55d3879cde4d 0x55d387abfc0d 0x55d387a420d8 0x55d387a3cc35 0x55d3879cf73a 0x55d387a3dd67 0x55d387a3cc35 0x55d3879cf73a 0x55d387a3dd67 0x55d387a3cc35 0x55d3879cf73a 0x55d387a3dd67 0x55d387a3cc35 0x55d3879cf73a 0x55d387a3dd67 0x55d387a3cc35 0x55d3879cf73a 0x55d387a3dd67 0x55d3879cf65a 0x55d387a3dd67 0x55d387a3cc35 0x55d3879cf73a 0x55d387a3e93b 0x55d387a3cc35 0x55d3879cf73a 0x55d387a3dd67 0x55d387a3d235 0x55d3879cf73a\n",
            "  Using cached https://download.pytorch.org/whl/cu110/torch-1.7.0%2Bcu110-cp37-cp37m-linux_x86_64.whl (1137.1 MB)\n",
            "Requirement already satisfied: torchvision==0.8.1+cu110 in /usr/local/lib/python3.7/dist-packages (0.8.1+cu110)\n",
            "Requirement already satisfied: torchaudio in /usr/local/lib/python3.7/dist-packages (0.7.0)\n",
            "Requirement already satisfied: numpy in /usr/local/lib/python3.7/dist-packages (from torch==1.7.0+cu110) (1.19.5)\n",
            "Requirement already satisfied: typing-extensions in /usr/local/lib/python3.7/dist-packages (from torch==1.7.0+cu110) (3.7.4.3)\n",
            "Requirement already satisfied: dataclasses in /usr/local/lib/python3.7/dist-packages (from torch==1.7.0+cu110) (0.6)\n",
            "Requirement already satisfied: future in /usr/local/lib/python3.7/dist-packages (from torch==1.7.0+cu110) (0.16.0)\n",
            "Requirement already satisfied: pillow>=4.1.1 in /usr/local/lib/python3.7/dist-packages (from torchvision==0.8.1+cu110) (7.1.2)\n",
            "Installing collected packages: torch\n",
            "  Attempting uninstall: torch\n",
            "    Found existing installation: torch 1.5.1\n",
            "    Uninstalling torch-1.5.1:\n",
            "      Successfully uninstalled torch-1.5.1\n",
            "\u001b[31mERROR: pip's dependency resolver does not currently take into account all the packages that are installed. This behaviour is the source of the following dependency conflicts.\n",
            "underthesea 1.3.1 requires torch<=1.5.1,>=1.1.0, but you have torch 1.7.0+cu110 which is incompatible.\n",
            "torchtext 0.10.0 requires torch==1.9.0, but you have torch 1.7.0+cu110 which is incompatible.\u001b[0m\n",
            "Successfully installed torch-1.7.0+cu110\n"
          ]
        }
      ],
      "metadata": {
        "colab": {
          "base_uri": "https://localhost:8080/"
        },
        "id": "wvpsciGZv9mj",
        "outputId": "d71de702-8d50-44d5-e8d3-c8f00f8ac4f2"
      }
    },
    {
      "cell_type": "code",
      "execution_count": null,
      "source": [
        "!pip install pyngrok"
      ],
      "outputs": [],
      "metadata": {
        "id": "B_nqVYII1iig"
      }
    },
    {
      "cell_type": "code",
      "execution_count": null,
      "source": [
        "!python synthesize.py"
      ],
      "outputs": [
        {
          "output_type": "stream",
          "name": "stdout",
          "text": [
            "[nltk_data] Downloading package averaged_perceptron_tagger to\n",
            "[nltk_data]     /root/nltk_data...\n",
            "[nltk_data]   Package averaged_perceptron_tagger is already up-to-\n",
            "[nltk_data]       date!\n",
            "[nltk_data] Downloading package cmudict to /root/nltk_data...\n",
            "[nltk_data]   Package cmudict is already up-to-date!\n",
            "2021-07-22 06:15:28.826144: I tensorflow/stream_executor/platform/default/dso_loader.cc:53] Successfully opened dynamic library libcudart.so.11.0\n",
            "/content/FastSpeech2\n",
            "Removing weight norm...\n",
            "Raw Text Sequence: Đây là mô hình chuyển văn bản thành giọng nói cho tiếng Việt\n",
            "Phoneme Sequence: {d ɤ̆1 j l a2 m o1 h i2 ɲ cw ʷiə4 n v ă1 n b a4 n tʰ ɛ2 ɲ j ɔ6 ŋ͡m n ɔ5 j c ɔ1 t iə5 ŋ v iə6 t}\n"
          ]
        }
      ],
      "metadata": {
        "colab": {
          "base_uri": "https://localhost:8080/"
        },
        "id": "LBezkYU8wKuv",
        "outputId": "82c27ee9-f626-4999-997b-c04da9b23de5"
      }
    },
    {
      "cell_type": "code",
      "execution_count": null,
      "source": [
        "# thay bằng token của tài khoản cá nhân\n",
        "!./ngrok authtoken 1vesqp3QeQwwXo4lRpOMd22EaFz_7tETNXavx7UJRCgXkWhYP"
      ],
      "outputs": [
        {
          "output_type": "stream",
          "name": "stdout",
          "text": [
            "Authtoken saved to configuration file: /root/.ngrok2/ngrok.yml\n"
          ]
        }
      ],
      "metadata": {
        "colab": {
          "base_uri": "https://localhost:8080/"
        },
        "id": "-wiMiFot4BSq",
        "outputId": "96f3b415-f105-4b98-9c08-dc64e4baa0f7"
      }
    },
    {
      "cell_type": "code",
      "execution_count": null,
      "source": [
        "get_ipython().system_raw('./ngrok http 8501 &')"
      ],
      "outputs": [],
      "metadata": {
        "id": "XBLc8DWz6GHK"
      }
    },
    {
      "cell_type": "code",
      "execution_count": null,
      "source": [
        "!curl -s http://localhost:4040/api/tunnels | python3 -c \\\n",
        "    'import sys, json; print(\"Execute the next cell and the go to the following URL: \" +json.load(sys.stdin)[\"tunnels\"][0][\"public_url\"])'"
      ],
      "outputs": [
        {
          "output_type": "stream",
          "name": "stdout",
          "text": [
            "Execute the next cell and the go to the following URL: https://f2566987805c.ngrok.io\n"
          ]
        }
      ],
      "metadata": {
        "colab": {
          "base_uri": "https://localhost:8080/"
        },
        "id": "amfLi6QV6OJo",
        "outputId": "5be4227f-11ef-4b1f-f4d9-e306440de520"
      }
    },
    {
      "cell_type": "code",
      "execution_count": null,
      "source": [
        "!streamlit run app.py"
      ],
      "outputs": [
        {
          "output_type": "stream",
          "name": "stdout",
          "text": [
            "\u001b[0m\n",
            "\u001b[34m\u001b[1m  You can now view your Streamlit app in your browser.\u001b[0m\n",
            "\u001b[0m\n",
            "\u001b[34m  Network URL: \u001b[0m\u001b[1mhttp://172.28.0.2:8501\u001b[0m\n",
            "\u001b[34m  External URL: \u001b[0m\u001b[1mhttp://35.221.33.49:8501\u001b[0m\n",
            "\u001b[0m\n",
            "2021-07-22 07:11:47.048078: I tensorflow/stream_executor/platform/default/dso_loader.cc:53] Successfully opened dynamic library libcudart.so.11.0\n",
            "[nltk_data] Downloading package averaged_perceptron_tagger to\n",
            "[nltk_data]     /root/nltk_data...\n",
            "[nltk_data]   Package averaged_perceptron_tagger is already up-to-\n",
            "[nltk_data]       date!\n",
            "[nltk_data] Downloading package cmudict to /root/nltk_data...\n",
            "[nltk_data]   Package cmudict is already up-to-date!\n",
            "Removing weight norm...\n",
            "đây là mô hình chuyển văn bản thành giọng nói cho tiếng việt. \n",
            "[E] ucnv_toUChars: ICU Error \"U_STRING_NOT_TERMINATED_WARNING\"\n",
            "[E] ucnv_toUChars: ICU Error \"U_STRING_NOT_TERMINATED_WARNING\"\n",
            "[E] ucnv_toUChars: ICU Error \"U_STRING_NOT_TERMINATED_WARNING\"\n",
            "[E] ucnv_toUChars: ICU Error \"U_STRING_NOT_TERMINATED_WARNING\"\n",
            "Raw Text Sequence: đây là mô hình chuyển văn bản thành giọng nói cho tiếng việt. \n",
            "Phoneme Sequence: {d ɤ̆1 j l a2 m o1 h i2 ɲ cw ʷiə4 n v ă1 n b a4 n tʰ ɛ2 ɲ j ɔ6 ŋ͡m n ɔ5 j c ɔ1 t iə5 ŋ v iə6 t}\n",
            "đây là mô hình chuyển văn bản thành giọng nói cho tiếng việt một hai năm một trăm hai mươi ba .. \n",
            "[E] ucnv_toUChars: ICU Error \"U_STRING_NOT_TERMINATED_WARNING\"\n",
            "[E] ucnv_toUChars: ICU Error \"U_STRING_NOT_TERMINATED_WARNING\"\n",
            "[E] ucnv_toUChars: ICU Error \"U_STRING_NOT_TERMINATED_WARNING\"\n",
            "[E] ucnv_toUChars: ICU Error \"U_STRING_NOT_TERMINATED_WARNING\"\n",
            "[E] ucnv_toUChars: ICU Error \"U_STRING_NOT_TERMINATED_WARNING\"\n",
            "[E] ucnv_toUChars: ICU Error \"U_STRING_NOT_TERMINATED_WARNING\"\n",
            "[E] ucnv_toUChars: ICU Error \"U_STRING_NOT_TERMINATED_WARNING\"\n",
            "[E] ucnv_toUChars: ICU Error \"U_STRING_NOT_TERMINATED_WARNING\"\n",
            "Raw Text Sequence: đây là mô hình chuyển văn bản thành giọng nói cho tiếng việt một hai năm một trăm hai mươi ba .. \n",
            "Phoneme Sequence: {d ɤ̆1 j l a2 m o1 h i2 ɲ cw ʷiə4 n v ă1 n b a4 n tʰ ɛ2 ɲ j ɔ6 ŋ͡m n ɔ5 j c ɔ1 t iə5 ŋ v iə6 t m o6 t h a1 j n ă1 m m o6 t ʈ ă1 m h a1 j m ɯə1 j b a1}\n",
            "quốc hội sáng nay hai mươi hai tháng bảy nghe báo cáo về đánh giá kết quả thực hiện kế hoạch phát triển kinh tế xã hội , ngân sách nhà nước , tổng hợp ý kiến , kiến nghị của cử tri và nhân dân gửi đến kỳ họp thứ nhất , kế hoạch phát triển kinh tế xã hội năm năm hai nghìn không trăm hai mươi mốt hai nghìn không trăm hai mươi lăm .. trình bày báo cáo thẩm tra , chủ nhiệm ủy ban kinh tế của quốc hội vũ hồng thanh cho biết , trong bối cảnh kinh tế thế giới vẫn tiềm ẩn nhiều bất ổn , khiến kinh tế phục hồi không chắc chắn , nguy cơ bất ổn tài chính tại một số nước do nợ công tăng cao. \n",
            "[E] ucnv_toUChars: ICU Error \"U_STRING_NOT_TERMINATED_WARNING\"\n",
            "[E] ucnv_toUChars: ICU Error \"U_STRING_NOT_TERMINATED_WARNING\"\n",
            "[E] ucnv_toUChars: ICU Error \"U_STRING_NOT_TERMINATED_WARNING\"\n",
            "[E] ucnv_toUChars: ICU Error \"U_STRING_NOT_TERMINATED_WARNING\"\n",
            "[E] ucnv_toUChars: ICU Error \"U_STRING_NOT_TERMINATED_WARNING\"\n",
            "[E] ucnv_toUChars: ICU Error \"U_STRING_NOT_TERMINATED_WARNING\"\n",
            "[E] ucnv_toUChars: ICU Error \"U_STRING_NOT_TERMINATED_WARNING\"\n",
            "[E] ucnv_toUChars: ICU Error \"U_STRING_NOT_TERMINATED_WARNING\"\n",
            "[E] ucnv_toUChars: ICU Error \"U_STRING_NOT_TERMINATED_WARNING\"\n",
            "[E] ucnv_toUChars: ICU Error \"U_STRING_NOT_TERMINATED_WARNING\"\n",
            "[E] ucnv_toUChars: ICU Error \"U_STRING_NOT_TERMINATED_WARNING\"\n",
            "[E] ucnv_toUChars: ICU Error \"U_STRING_NOT_TERMINATED_WARNING\"\n",
            "[E] ucnv_toUChars: ICU Error \"U_STRING_NOT_TERMINATED_WARNING\"\n",
            "[E] ucnv_toUChars: ICU Error \"U_STRING_NOT_TERMINATED_WARNING\"\n",
            "[E] ucnv_toUChars: ICU Error \"U_STRING_NOT_TERMINATED_WARNING\"\n",
            "[E] ucnv_toUChars: ICU Error \"U_STRING_NOT_TERMINATED_WARNING\"\n",
            "[E] ucnv_toUChars: ICU Error \"U_STRING_NOT_TERMINATED_WARNING\"\n",
            "[E] ucnv_toUChars: ICU Error \"U_STRING_NOT_TERMINATED_WARNING\"\n",
            "[E] ucnv_toUChars: ICU Error \"U_STRING_NOT_TERMINATED_WARNING\"\n",
            "[E] ucnv_toUChars: ICU Error \"U_STRING_NOT_TERMINATED_WARNING\"\n",
            "[E] ucnv_toUChars: ICU Error \"U_STRING_NOT_TERMINATED_WARNING\"\n",
            "[E] ucnv_toUChars: ICU Error \"U_STRING_NOT_TERMINATED_WARNING\"\n",
            "[E] ucnv_toUChars: ICU Error \"U_STRING_NOT_TERMINATED_WARNING\"\n",
            "[E] ucnv_toUChars: ICU Error \"U_STRING_NOT_TERMINATED_WARNING\"\n",
            "[E] ucnv_toUChars: ICU Error \"U_STRING_NOT_TERMINATED_WARNING\"\n",
            "[E] ucnv_toUChars: ICU Error \"U_STRING_NOT_TERMINATED_WARNING\"\n",
            "[E] ucnv_toUChars: ICU Error \"U_STRING_NOT_TERMINATED_WARNING\"\n",
            "Raw Text Sequence: quốc hội sáng nay hai mươi hai tháng bảy nghe báo cáo về đánh giá kết quả thực hiện kế hoạch phát triển kinh tế xã hội , ngân sách nhà nước , tổng hợp ý kiến , kiến nghị của cử tri và nhân dân gửi đến kỳ họp thứ nhất , kế hoạch phát triển kinh tế xã hội năm năm hai nghìn không trăm hai mươi mốt hai nghìn không trăm hai mươi lăm .. trình bày báo cáo thẩm tra , chủ nhiệm ủy ban kinh tế của quốc hội vũ hồng thanh cho biết , trong bối cảnh kinh tế thế giới vẫn tiềm ẩn nhiều bất ổn , khiến kinh tế phục hồi không chắc chắn , nguy cơ bất ổn tài chính tại một số nước do nợ công tăng cao. \n",
            "Phoneme Sequence: {kw o5 k͡p h o6 j ʂ a5 ŋ n ă1 j h a1 j m ɯə1 j h a1 j tʰ a5 ŋ b ă4 j ŋ ɛ1 b a5 w k a5 w v e2 d ɛ5 ɲ j a5 k e5 t kw a4 tʰ ɯ6 k h iə6 n k e5 hw ʷa6 tʃ f a5 t ʈ iə4 n k i1 ɲ t e5 s a3 h o6 j sp ŋ ɤ̆1 n ʂ a5 tʃ ɲ a2 n ɯə5 k sp t o4 ŋ͡m h ɤ6 p i5 k iə5 n sp k iə5 n ŋ i6 k uə4 k ɯ4 ʈ i1 v a2 ɲ ɤ̆1 n z ɤ̆1 n ɣ ɯ4 j d e5 n k i2 h ɔ6 p tʰ ɯ5 ɲ ɤ̆5 t sp k e5 hw ʷa6 tʃ f a5 t ʈ iə4 n k i1 ɲ t e5 s a3 h o6 j n ă1 m n ă1 m h a1 j ŋ i2 n x o1 ŋ͡m ʈ ă1 m h a1 j m ɯə1 j m o5 t h a1 j ŋ i2 n x o1 ŋ͡m ʈ ă1 m h a1 j m ɯə1 j l ă1 m ʈ i2 ɲ b ă2 j b a5 w k a5 w tʰ ɤ̆4 m ʈ a1 sp c u4 ɲ iə6 m u4 j b a1 n k i1 ɲ t e5 k uə4 kw o5 k͡p h o6 j v u3 h o2 ŋ͡m tʰ ɛ1 ɲ c ɔ1 b iə5 t sp ʈ ɔ1 ŋ͡m b o5 j k ɛ4 ɲ k i1 ɲ t e5 tʰ e5 j ɤ5 j v ɤ̆3 n t iə2 m ɤ̆4 n ɲ iə2 w b ɤ̆5 t o4 n sp x iə5 n k i1 ɲ t e5 f u6 k͡p h o2 j x o1 ŋ͡m c ă5 k c ă5 n sp ŋw ʷi1 k ɤ1 b ɤ̆5 t o4 n t a2 j c i5 ɲ t a6 j m o6 t ʂ o5 n ɯə5 k z ɔ1 n ɤ6 k o1 ŋ͡m t ă1 ŋ k a1 w}\n",
            "quốc hội sáng nay hai mươi hai tháng bảy nghe báo cáo về đánh giá kết quả thực hiện kế hoạch phát triển kinh tế xã hội , ngân sách nhà nước , tổng hợp ý kiến , kiến nghị của cử tri và nhân dân gửi đến kỳ họp thứ nhất , kế hoạch phát triển kinh tế xã hội năm năm hai nghìn không trăm hai mươi mốt hai nghìn không trăm hai mươi lăm .. trình bày báo cáo thẩm tra , chủ nhiệm ủy ban kinh tế của quốc hội vũ hồng thanh cho biết , trong bối cảnh kinh tế thế giới vẫn tiềm ẩn nhiều bất ổn , khiến kinh tế phục hồi không chắc chắn , nguy cơ bất ổn tài chính tại một số nước do nợ công tăng cao. \n",
            "quốc hội sáng nay hai mươi hai tháng bảy nghe báo cáo về đánh giá kết quả thực hiện kế hoạch phát triển kinh tế xã hội , ngân sách nhà nước , tổng hợp ý kiến , kiến nghị của cử tri và nhân dân gửi đến kỳ họp thứ nhất , kế hoạch phát triển kinh tế xã hội năm năm hai nghìn không trăm hai mươi mốt hai nghìn không trăm hai mươi lăm .. trình bày báo cáo thẩm tra , chủ nhiệm ủy ban kinh tế của quốc hội vũ hồng thanh cho biết , trong bối cảnh kinh tế thế giới vẫn tiềm ẩn nhiều bất ổn , khiến kinh tế phục hồi không chắc chắn , nguy cơ bất ổn tài chính tại một số nước do nợ công tăng cao. \n",
            "quốc hội sáng nay hai mươi hai tháng bảy nghe báo cáo về đánh giá kết quả thực hiện kế hoạch phát triển kinh tế xã hội , ngân sách nhà nước , tổng hợp ý kiến , kiến nghị của cử tri và nhân dân gửi đến kỳ họp thứ nhất , kế hoạch phát triển kinh tế xã hội năm năm hai nghìn không trăm hai mươi mốt hai nghìn không trăm hai mươi lăm .. trình bày báo cáo thẩm tra , chủ nhiệm ủy ban kinh tế của quốc hội vũ hồng thanh cho biết , trong bối cảnh kinh tế thế giới vẫn tiềm ẩn nhiều bất ổn , khiến kinh tế phục hồi không chắc chắn , nguy cơ bất ổn tài chính tại một số nước do nợ công tăng cao. \n",
            "quốc hội sáng nay hai mươi hai tháng bảy nghe báo cáo về đánh giá kết quả thực hiện kế hoạch phát triển kinh tế xã hội , ngân sách nhà nước , tổng hợp ý kiến , kiến nghị của cử tri và nhân dân gửi đến kỳ họp thứ nhất , kế hoạch phát triển kinh tế xã hội năm năm hai nghìn không trăm hai mươi mốt hai nghìn không trăm hai mươi lăm .. trình bày báo cáo thẩm tra , chủ nhiệm ủy ban kinh tế của quốc hội vũ hồng thanh cho biết , trong bối cảnh kinh tế thế giới vẫn tiềm ẩn nhiều bất ổn , khiến kinh tế phục hồi không chắc chắn , nguy cơ bất ổn tài chính tại một số nước do nợ công tăng cao. \n",
            "đây là mô hình chuyển văn bản thành giọng nói cho tiếng việt. \n",
            "đây là mô hình chuyển văn bản thành giọng nói cho tiếng việt. \n",
            "đây là mô hình chuyển văn bản thành giọng nói cho tiếng việt. \n",
            "đây là mô hình chuyển văn bản thành giọng nói cho tiếng việt. \n",
            "đây là mô hình chuyển văn bản thành giọng nói cho tiếng việt. \n",
            "đây là mô hình chuyển văn bản thành giọng nói cho tiếng việt. \n",
            "quốc hội sáng nay hai mươi hai tháng bảy nghe báo cáo về đánh giá kết quả thực hiện kế hoạch phát triển kinh tế xã hội , ngân sách nhà nước , tổng hợp ý kiến , kiến nghị của cử tri và nhân dân gửi đến kỳ họp thứ nhất , kế hoạch phát triển kinh tế xã hội năm năm hai nghìn không trăm hai mươi mốt hai nghìn không trăm hai mươi lăm . . trình bày báo cáo thẩm tra , chủ nhiệm ủy ban kinh tế của quốc hội vũ hồng thanh cho biết , trong bối cảnh kinh tế thế giới vẫn tiềm ẩn nhiều bất ổn , khiến kinh tế phục hồi không chắc chắn , nguy cơ bất ổn tài chính tại một số nước do nợ công tăng cao .. \n",
            "[E] ucnv_toUChars: ICU Error \"U_STRING_NOT_TERMINATED_WARNING\"\n",
            "[E] ucnv_toUChars: ICU Error \"U_STRING_NOT_TERMINATED_WARNING\"\n",
            "[E] ucnv_toUChars: ICU Error \"U_STRING_NOT_TERMINATED_WARNING\"\n",
            "[E] ucnv_toUChars: ICU Error \"U_STRING_NOT_TERMINATED_WARNING\"\n",
            "[E] ucnv_toUChars: ICU Error \"U_STRING_NOT_TERMINATED_WARNING\"\n",
            "[E] ucnv_toUChars: ICU Error \"U_STRING_NOT_TERMINATED_WARNING\"\n",
            "[E] ucnv_toUChars: ICU Error \"U_STRING_NOT_TERMINATED_WARNING\"\n",
            "[E] ucnv_toUChars: ICU Error \"U_STRING_NOT_TERMINATED_WARNING\"\n",
            "[E] ucnv_toUChars: ICU Error \"U_STRING_NOT_TERMINATED_WARNING\"\n",
            "[E] ucnv_toUChars: ICU Error \"U_STRING_NOT_TERMINATED_WARNING\"\n",
            "[E] ucnv_toUChars: ICU Error \"U_STRING_NOT_TERMINATED_WARNING\"\n",
            "[E] ucnv_toUChars: ICU Error \"U_STRING_NOT_TERMINATED_WARNING\"\n",
            "[E] ucnv_toUChars: ICU Error \"U_STRING_NOT_TERMINATED_WARNING\"\n",
            "[E] ucnv_toUChars: ICU Error \"U_STRING_NOT_TERMINATED_WARNING\"\n",
            "[E] ucnv_toUChars: ICU Error \"U_STRING_NOT_TERMINATED_WARNING\"\n",
            "[E] ucnv_toUChars: ICU Error \"U_STRING_NOT_TERMINATED_WARNING\"\n",
            "[E] ucnv_toUChars: ICU Error \"U_STRING_NOT_TERMINATED_WARNING\"\n",
            "[E] ucnv_toUChars: ICU Error \"U_STRING_NOT_TERMINATED_WARNING\"\n",
            "[E] ucnv_toUChars: ICU Error \"U_STRING_NOT_TERMINATED_WARNING\"\n",
            "[E] ucnv_toUChars: ICU Error \"U_STRING_NOT_TERMINATED_WARNING\"\n",
            "[E] ucnv_toUChars: ICU Error \"U_STRING_NOT_TERMINATED_WARNING\"\n",
            "[E] ucnv_toUChars: ICU Error \"U_STRING_NOT_TERMINATED_WARNING\"\n",
            "[E] ucnv_toUChars: ICU Error \"U_STRING_NOT_TERMINATED_WARNING\"\n",
            "[E] ucnv_toUChars: ICU Error \"U_STRING_NOT_TERMINATED_WARNING\"\n",
            "[E] ucnv_toUChars: ICU Error \"U_STRING_NOT_TERMINATED_WARNING\"\n",
            "[E] ucnv_toUChars: ICU Error \"U_STRING_NOT_TERMINATED_WARNING\"\n",
            "[E] ucnv_toUChars: ICU Error \"U_STRING_NOT_TERMINATED_WARNING\"\n",
            "[E] ucnv_toUChars: ICU Error \"U_STRING_NOT_TERMINATED_WARNING\"\n",
            "[E] ucnv_toUChars: ICU Error \"U_STRING_NOT_TERMINATED_WARNING\"\n",
            "[E] ucnv_toUChars: ICU Error \"U_STRING_NOT_TERMINATED_WARNING\"\n",
            "[E] ucnv_toUChars: ICU Error \"U_STRING_NOT_TERMINATED_WARNING\"\n",
            "[E] ucnv_toUChars: ICU Error \"U_STRING_NOT_TERMINATED_WARNING\"\n",
            "Raw Text Sequence: quốc hội sáng nay hai mươi hai tháng bảy nghe báo cáo về đánh giá kết quả thực hiện kế hoạch phát triển kinh tế xã hội , ngân sách nhà nước , tổng hợp ý kiến , kiến nghị của cử tri và nhân dân gửi đến kỳ họp thứ nhất , kế hoạch phát triển kinh tế xã hội năm năm hai nghìn không trăm hai mươi mốt hai nghìn không trăm hai mươi lăm . . trình bày báo cáo thẩm tra , chủ nhiệm ủy ban kinh tế của quốc hội vũ hồng thanh cho biết , trong bối cảnh kinh tế thế giới vẫn tiềm ẩn nhiều bất ổn , khiến kinh tế phục hồi không chắc chắn , nguy cơ bất ổn tài chính tại một số nước do nợ công tăng cao .. \n",
            "Phoneme Sequence: {kw o5 k͡p h o6 j ʂ a5 ŋ n ă1 j h a1 j m ɯə1 j h a1 j tʰ a5 ŋ b ă4 j ŋ ɛ1 b a5 w k a5 w v e2 d ɛ5 ɲ j a5 k e5 t kw a4 tʰ ɯ6 k h iə6 n k e5 hw ʷa6 tʃ f a5 t ʈ iə4 n k i1 ɲ t e5 s a3 h o6 j sp ŋ ɤ̆1 n ʂ a5 tʃ ɲ a2 n ɯə5 k sp t o4 ŋ͡m h ɤ6 p i5 k iə5 n sp k iə5 n ŋ i6 k uə4 k ɯ4 ʈ i1 v a2 ɲ ɤ̆1 n z ɤ̆1 n ɣ ɯ4 j d e5 n k i2 h ɔ6 p tʰ ɯ5 ɲ ɤ̆5 t sp k e5 hw ʷa6 tʃ f a5 t ʈ iə4 n k i1 ɲ t e5 s a3 h o6 j n ă1 m n ă1 m h a1 j ŋ i2 n x o1 ŋ͡m ʈ ă1 m h a1 j m ɯə1 j m o5 t h a1 j ŋ i2 n x o1 ŋ͡m ʈ ă1 m h a1 j m ɯə1 j l ă1 m ʈ i2 ɲ b ă2 j b a5 w k a5 w tʰ ɤ̆4 m ʈ a1 sp c u4 ɲ iə6 m u4 j b a1 n k i1 ɲ t e5 k uə4 kw o5 k͡p h o6 j v u3 h o2 ŋ͡m tʰ ɛ1 ɲ c ɔ1 b iə5 t sp ʈ ɔ1 ŋ͡m b o5 j k ɛ4 ɲ k i1 ɲ t e5 tʰ e5 j ɤ5 j v ɤ̆3 n t iə2 m ɤ̆4 n ɲ iə2 w b ɤ̆5 t o4 n sp x iə5 n k i1 ɲ t e5 f u6 k͡p h o2 j x o1 ŋ͡m c ă5 k c ă5 n sp ŋw ʷi1 k ɤ1 b ɤ̆5 t o4 n t a2 j c i5 ɲ t a6 j m o6 t ʂ o5 n ɯə5 k z ɔ1 n ɤ6 k o1 ŋ͡m t ă1 ŋ k a1 w}\n",
            "\u001b[34m  Stopping...\u001b[0m\n"
          ]
        }
      ],
      "metadata": {
        "colab": {
          "base_uri": "https://localhost:8080/"
        },
        "id": "v2HKiSNt1SXr",
        "outputId": "f8dcf6a0-90a1-4a42-a49a-fc058f3b00e9"
      }
    },
    {
      "cell_type": "code",
      "execution_count": null,
      "source": [
        "ngrok.kill()"
      ],
      "outputs": [],
      "metadata": {
        "id": "Sb7BMxom5Rfo"
      }
    },
    {
      "cell_type": "code",
      "execution_count": null,
      "source": [],
      "outputs": [],
      "metadata": {
        "id": "ZySWKlmx5Ub9"
      }
    }
  ]
}