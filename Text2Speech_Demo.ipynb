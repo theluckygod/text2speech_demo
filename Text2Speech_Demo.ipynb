{
  "nbformat": 4,
  "nbformat_minor": 0,
  "metadata": {
    "colab": {
      "name": "Text2Speech Demo.ipynb",
      "provenance": [],
      "collapsed_sections": []
    },
    "kernelspec": {
      "name": "python3",
      "display_name": "Python 3"
    },
    "language_info": {
      "name": "python"
    },
    "accelerator": "GPU"
  },
  "cells": [
    {
      "cell_type": "markdown",
      "metadata": {
        "id": "RgA5FkT_HS4E"
      },
      "source": [
        "## Install"
      ]
    },
    {
      "cell_type": "code",
      "metadata": {
        "id": "xKHkRSuorKZz"
      },
      "source": [
        "!git clone https://github.com/theluckygod/text2speech_demo.git -b thinh\n",
        "#!wget https://bin.equinox.io/c/4VmDzA7iaHb/ngrok-stable-linux-amd64.zip\n",
        "!unzip ngrok-stable-linux-amd64.zip\n",
        "%cd /content/text2speech_demo\n",
        "!chmod +x bash.sh\n",
        "!./bash.sh\n",
        "!pip install -r /content/text2speech_demo/FastSpeech2/requirements.txt\n",
        "!pip install --pre torch==1.6.0 torchvision -f https://download.pytorch.org/whl/nightly/cu101/torch_nightly.html\n",
        "!pip uninstall -y distributed"
      ],
      "execution_count": null,
      "outputs": []
    },
    {
      "cell_type": "markdown",
      "metadata": {
        "id": "8NXuJ_tDHXZ9"
      },
      "source": [
        "## Run demo"
      ]
    },
    {
      "cell_type": "code",
      "metadata": {
        "id": "hCV_OL-vFW9t",
        "outputId": "6fdb968e-ad2e-4bdc-fdc3-6e46d421dc97",
        "colab": {
          "base_uri": "https://localhost:8080/"
        }
      },
      "source": [
        "# run web demo\n",
        "%cd /content/text2speech_demo\n",
        "import threading\n",
        "import os\n",
        "def run_web_demo():\n",
        "    os.system(\"streamlit run app.py\")\n",
        "print(\"Click on following link to access web demo\")\n",
        "get_ipython().system_raw('../ngrok http 8501 &')\n",
        "!curl -s http://localhost:4040/api/tunnels | python3 -c \\\n",
        "    'import sys, json; print(\"Execute the next cell and the go to the following URL: \" +json.load(sys.stdin)[\"tunnels\"][0][\"public_url\"])'\n",
        "\n",
        "threading.Thread(target=run_web_demo).start()"
      ],
      "execution_count": 13,
      "outputs": [
        {
          "output_type": "stream",
          "name": "stdout",
          "text": [
            "/content/text2speech_demo\n",
            "Click on following link to access web demo\n",
            "Execute the next cell and the go to the following URL: http://b04c-34-70-114-15.ngrok.io\n"
          ]
        }
      ]
    },
    {
      "cell_type": "code",
      "metadata": {
        "id": "_W_S05GtsAck"
      },
      "source": [
        "# run api\n",
        "%cd /content/text2speech_demo\n",
        "!python /content/text2speech_demo/api.py"
      ],
      "execution_count": null,
      "outputs": []
    },
    {
      "cell_type": "code",
      "metadata": {
        "id": "uQYq25RuGgC8",
        "outputId": "58230318-892b-4741-bb9d-34efc3a75719",
        "colab": {
          "base_uri": "https://localhost:8080/"
        }
      },
      "source": [
        "from google.colab import drive\n",
        "drive.mount('/content/drive')"
      ],
      "execution_count": 4,
      "outputs": [
        {
          "output_type": "stream",
          "name": "stdout",
          "text": [
            "Drive already mounted at /content/drive; to attempt to forcibly remount, call drive.mount(\"/content/drive\", force_remount=True).\n"
          ]
        }
      ]
    },
    {
      "cell_type": "code",
      "metadata": {
        "id": "HCszbfi1JIoE"
      },
      "source": [
        "!pip install -U nltk"
      ],
      "execution_count": null,
      "outputs": []
    }
  ]
}